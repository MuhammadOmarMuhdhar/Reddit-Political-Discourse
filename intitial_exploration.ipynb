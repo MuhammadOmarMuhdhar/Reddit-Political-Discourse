{
 "cells": [
  {
   "cell_type": "markdown",
   "metadata": {},
   "source": [
    "# Initial Data Exploration\n",
    "\n",
    "Welcome to the initial phase of data exploration for this project. This notebook is dedicated to  examining the data we've extracted so far. The primary aim of this exploration is not to discover patterns, trends, or correlations within the data, but rather to gain an understanding of the data's characteristics, structure, and quality.\n",
    "\n",
    "### Objectives:\n",
    "\n",
    "In this stage, focus is on the following areas:\n",
    "\n",
    "<!-- 1. **Understanding and Structuring Data**:\n",
    "   - What types of data have we collected, and how comprehensive and representative is it in terms of the project's goals?\n",
    "   - How is the data currently formatted, and are there inconsistencies in the structure?\n",
    "   - Do the formats of dates, text, and other fields align with the requirements for future analysis? -->\n",
    "\n",
    "1. **Data Cleaning and Preparation**:\n",
    "   - What potential issues exist in the data, such as missing values, duplicates, or outliers?\n",
    "   - What steps are necessary to clean the data and streamline the process for efficiency?\n",
    "   - What transformations or preprocessing steps are required to prepare the data for analysis, ensuring it is in the right shape and format?\n",
    "   - What additional data might be needed, and how can we incorporate it into our existing dataset?\n",
    "\n",
    "2. **Feature Engineering**:\n",
    "   - What new features or variables can be derived from the existing data to enhance the analysis?\n",
    "   - How can raw data be transformed into features that better represent underlying patterns or trends?\n",
    "   - What techniques can be applied to extract meaningful insights?\n",
    "\n",
    "<!-- The insights and knowledge gained from this initial exploration will be pivotal in shaping the analytical functions that we develop in the next phases of the project. Understanding the data at a granular level will help us identify the best methods for cleaning, transforming, and analyzing the data.\n",
    "\n",
    "Furthermore, this exploration will serve as the foundation for designing the framework of the Reddit Politics dashboard. By understanding the data thoroughly, we can create a dashboard that is not only informative but also capable of providing valuable insights and visualizations to end users.\n",
    "\n",
    "In summary, this notebook represents the groundwork for the entire project, setting the stage for the development of effective analytical tools and a compelling, data-driven dashboard. The careful examination and preparation of the data at this stage are crucial steps toward ensuring the success of the project. -->\n",
    "\n",
    "The insights gained from this exploration will inform the development of functions for data analysis and guide the overall framework for creating the Reddit Politics dashboard.\n",
    "\n"
   ]
  },
  {
   "cell_type": "code",
   "execution_count": 1,
   "metadata": {},
   "outputs": [
    {
     "name": "stdout",
     "output_type": "stream",
     "text": [
      "Failed to retrieve page. Status code: 429\n",
      "https://old.reddit.com//r/Republican/comments/1ewpx0q/james_lindsay_how_i_left_the_leftwing_cult/.json\n",
      "Failed to retrieve page. Status code: 429\n",
      "https://old.reddit.com//r/Republican/comments/1ezl1ny/hilariously_calling_out_the_gaslighting/.json\n",
      "Failed to retrieve page. Status code: 429\n",
      "https://old.reddit.com//r/Republican/comments/1eywxlb/theres_finally_a_kamala_harris_policy_website/.json\n"
     ]
    }
   ],
   "source": [
    "import pandas as pd\n",
    "from functions import reddit_scrape\n",
    "\n",
    "\n",
    "db_file_path = '/Users/muhammadmuhdhar/Desktop/Repo/Reddit Politics/data.db'\n",
    "\n",
    "subreddits = [\n",
    "    'politics',\n",
    "    'democrats',\n",
    "    'Republican'\n",
    "]\n",
    "\n",
    "for subreddit in subreddits: \n",
    "    data_pull = reddit_scrape(subreddit)\n"
   ]
  },
  {
   "cell_type": "code",
   "execution_count": 79,
   "metadata": {},
   "outputs": [],
   "source": [
    "import sqlite3\n",
    "\n",
    "db_file_path = '/Users/muhammadmuhdhar/Desktop/Repo/Reddit Politics/data.db'\n",
    "conn = sqlite3.connect(db_file_path)\n",
    "\n",
    "subreddits = [\n",
    "    'politics',\n",
    "    'democrats',\n",
    "    'Republican'\n",
    "]\n",
    "\n",
    "df = {}\n",
    "for subreddit in subreddits: \n",
    "    df[subreddit] = pd.read_sql(f'SELECT * FROM {subreddit}', conn)\n"
   ]
  },
  {
   "cell_type": "code",
   "execution_count": 80,
   "metadata": {},
   "outputs": [
    {
     "name": "stdout",
     "output_type": "stream",
     "text": [
      "description for r/politics:\n",
      "             body        date\n",
      "count       49478       49478\n",
      "unique      43666           7\n",
      "top     [deleted]  2024-08-23\n",
      "freq          278        8521\n",
      "\n",
      "\n",
      "description for r/democrats:\n",
      "                                                     body        date\n",
      "count                                               20540       20540\n",
      "unique                                              15613           8\n",
      "top     **Join:**\\n\\n* /r/KamalaHarris\\n\\n* /r/TimWalz...  2024-08-21\n",
      "freq                                                  267        3851\n",
      "\n",
      "\n",
      "description for r/Republican:\n",
      "             body        date\n",
      "count        5728        5728\n",
      "unique       3700           8\n",
      "top     [removed]  2024-08-22\n",
      "freq          184        1114\n",
      "\n",
      "\n"
     ]
    }
   ],
   "source": [
    "for subreddit in subreddits:\n",
    "    print(f'description for r/{subreddit}:')\n",
    "    print(df[subreddit].describe())\n",
    "    print(\"\\n\")"
   ]
  },
  {
   "cell_type": "code",
   "execution_count": 81,
   "metadata": {},
   "outputs": [],
   "source": [
    "for subreddit in subreddits:\n",
    "    df[subreddit] = df[subreddit].drop_duplicates(subset=['body'], keep='first')"
   ]
  },
  {
   "cell_type": "code",
   "execution_count": 82,
   "metadata": {},
   "outputs": [
    {
     "name": "stdout",
     "output_type": "stream",
     "text": [
      "description for r/politics:\n",
      "                                                     body        date\n",
      "count                                               43666       43666\n",
      "unique                                              43666           7\n",
      "top     \\nAs a reminder, this subreddit [is for civil ...  2024-08-22\n",
      "freq                                                    1        7375\n",
      "\n",
      "\n",
      "description for r/democrats:\n",
      "                                                     body        date\n",
      "count                                               15613       15613\n",
      "unique                                              15613           8\n",
      "top     **Join:**\\n\\n* /r/KamalaHarris\\n\\n* /r/TimWalz...  2024-08-22\n",
      "freq                                                    1        2720\n",
      "\n",
      "\n",
      "description for r/Republican:\n",
      "                                                 body        date\n",
      "count                                            3700        3700\n",
      "unique                                           3700           8\n",
      "top     I thought he was independent as of last year.  2024-08-20\n",
      "freq                                                1         638\n",
      "\n",
      "\n"
     ]
    }
   ],
   "source": [
    "for subreddit in subreddits:\n",
    "    print(f'description for r/{subreddit}:')\n",
    "    print(df[subreddit].describe())\n",
    "    print(\"\\n\")"
   ]
  },
  {
   "cell_type": "code",
   "execution_count": 83,
   "metadata": {},
   "outputs": [
    {
     "name": "stdout",
     "output_type": "stream",
     "text": [
      "null values for r/politics:\n",
      "body    0\n",
      "date    0\n",
      "dtype: int64\n",
      "\n",
      "\n",
      "null values for r/democrats:\n",
      "body    0\n",
      "date    0\n",
      "dtype: int64\n",
      "\n",
      "\n",
      "null values for r/Republican:\n",
      "body    0\n",
      "date    0\n",
      "dtype: int64\n",
      "\n",
      "\n"
     ]
    }
   ],
   "source": [
    "for subreddit in subreddits:\n",
    "    print(f'null values for r/{subreddit}:')\n",
    "    print(df[subreddit].isnull().sum())\n",
    "    print(\"\\n\")"
   ]
  },
  {
   "cell_type": "code",
   "execution_count": 84,
   "metadata": {},
   "outputs": [
    {
     "name": "stdout",
     "output_type": "stream",
     "text": [
      "Data types for r/politics:\n",
      "body    object\n",
      "date    object\n",
      "dtype: object\n",
      "\n",
      "\n",
      "Data types for r/democrats:\n",
      "body    object\n",
      "date    object\n",
      "dtype: object\n",
      "\n",
      "\n",
      "Data types for r/Republican:\n",
      "body    object\n",
      "date    object\n",
      "dtype: object\n",
      "\n",
      "\n"
     ]
    }
   ],
   "source": [
    "for subreddit, data in df.items():\n",
    "    print(f\"Data types for r/{subreddit}:\")\n",
    "    print(data.dtypes)\n",
    "    print(\"\\n\")"
   ]
  },
  {
   "cell_type": "code",
   "execution_count": 85,
   "metadata": {},
   "outputs": [],
   "source": [
    "for subreddit, data in df.items():\n",
    "    data['date'] = pd.to_datetime(data['date'])"
   ]
  },
  {
   "cell_type": "code",
   "execution_count": 86,
   "metadata": {},
   "outputs": [
    {
     "name": "stdout",
     "output_type": "stream",
     "text": [
      "r/politics head:\n",
      "                                                body       date\n",
      "0  \\nAs a reminder, this subreddit [is for civil ... 2024-08-21\n",
      "1  Donald Trump and \"perfect\" criminal calls, nam... 2024-08-21\n",
      "2  Yeah, this is like the third Perfect Phone Cal... 2024-08-21\n",
      "3                           Donald Trump and Epstein 2024-08-21\n",
      "4                             DJT and sexual assault 2024-08-21\n",
      "\n",
      "\n",
      "r/democrats head:\n",
      "                                                body       date\n",
      "0  **Join:**\\n\\n* /r/KamalaHarris\\n\\n* /r/TimWalz... 2024-08-21\n",
      "1                                 Samwise the Brave! 2024-08-21\n",
      "2                        The real hero of the story. 2024-08-21\n",
      "3  People say that, but Frodo made the journey en... 2024-08-21\n",
      "4  Yeah, people that try to say “Sam is the real ... 2024-08-21\n",
      "\n",
      "\n",
      "r/Republican head:\n",
      "                                                body       date\n",
      "0      I thought he was independent as of last year. 2024-08-24\n",
      "1  He ran as an independent because dems wouldn't... 2024-08-24\n",
      "2                    what a \"democratic\" party, huh? 2024-08-24\n",
      "3  After Biden endorsed her, no other Democrat op... 2024-08-24\n",
      "4  &gt; &gt; He ran as an independent because dem... 2024-08-24\n",
      "\n",
      "\n"
     ]
    }
   ],
   "source": [
    "for subreddit in subreddits:\n",
    "    print(f\"r/{subreddit} head:\")\n",
    "    print(df[subreddit].head())\n",
    "    print(\"\\n\")"
   ]
  },
  {
   "cell_type": "code",
   "execution_count": 46,
   "metadata": {},
   "outputs": [],
   "source": [
    "\n"
   ]
  },
  {
   "cell_type": "code",
   "execution_count": null,
   "metadata": {},
   "outputs": [],
   "source": []
  },
  {
   "cell_type": "code",
   "execution_count": null,
   "metadata": {},
   "outputs": [],
   "source": []
  }
 ],
 "metadata": {
  "kernelspec": {
   "display_name": "base",
   "language": "python",
   "name": "python3"
  },
  "language_info": {
   "codemirror_mode": {
    "name": "ipython",
    "version": 3
   },
   "file_extension": ".py",
   "mimetype": "text/x-python",
   "name": "python",
   "nbconvert_exporter": "python",
   "pygments_lexer": "ipython3",
   "version": "3.11.7"
  }
 },
 "nbformat": 4,
 "nbformat_minor": 2
}
